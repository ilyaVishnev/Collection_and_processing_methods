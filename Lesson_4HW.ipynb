{
 "cells": [
  {
   "cell_type": "code",
   "execution_count": 1,
   "id": "43155808",
   "metadata": {},
   "outputs": [
    {
     "name": "stdout",
     "output_type": "stream",
     "text": [
      "Collecting pymongo\n",
      "  Downloading https://files.pythonhosted.org/packages/42/0c/d2ad12aec55acdc4099134a8c87912d8fe01e2e1e5969b5d6c3485b99284/pymongo-4.3.3-cp37-cp37m-win_amd64.whl (382kB)\n",
      "Collecting dnspython<3.0.0,>=1.16.0\n",
      "  Downloading https://files.pythonhosted.org/packages/12/86/d305e87555430ff4630d729420d97dece3b16efcbf2b7d7e974d11b0d86c/dnspython-2.3.0-py3-none-any.whl (283kB)\n",
      "Installing collected packages: dnspython, pymongo\n",
      "Successfully installed dnspython-2.3.0 pymongo-4.3.3\n",
      "Note: you may need to restart the kernel to use updated packages.\n"
     ]
    }
   ],
   "source": [
    "# pip install pymongo"
   ]
  },
  {
   "cell_type": "code",
   "execution_count": null,
   "id": "b9c6db24",
   "metadata": {},
   "outputs": [],
   "source": [
    "# 1. Развернуть у себя на компьютере/виртуальной машине/хостинге MongoDB и реализовать функцию, которая будет \n",
    "# добавлять только новые продукты в вашу базу."
   ]
  },
  {
   "cell_type": "code",
   "execution_count": 30,
   "id": "553ac2af",
   "metadata": {},
   "outputs": [],
   "source": [
    "from pymongo import MongoClient\n",
    "import warnings"
   ]
  },
  {
   "cell_type": "code",
   "execution_count": 31,
   "id": "7746facd",
   "metadata": {},
   "outputs": [],
   "source": [
    "client = MongoClient('mongodb://localhost:27017/')"
   ]
  },
  {
   "cell_type": "code",
   "execution_count": 63,
   "id": "a12b3ba4",
   "metadata": {},
   "outputs": [],
   "source": [
    "cars = [ {'name': 'Audi', 'price': 52642},\n",
    "    {'name': 'Mercedes', 'price': 57127},\n",
    "    {'name': 'Skoda', 'price': 9000},\n",
    "    {'name': 'Volvo', 'price': 29000},\n",
    "    {'name': 'Bentley', 'price': 350000},\n",
    "    {'name': 'Citroen', 'price': 21000},\n",
    "    {'name': 'Hummer', 'price': 41400},\n",
    "    {'name': 'Volkswagen', 'price': 21600} ]\n"
   ]
  },
  {
   "cell_type": "code",
   "execution_count": 64,
   "id": "fec75fa1",
   "metadata": {},
   "outputs": [],
   "source": [
    "db=client.testdb"
   ]
  },
  {
   "cell_type": "code",
   "execution_count": 65,
   "id": "7bc48428",
   "metadata": {},
   "outputs": [
    {
     "data": {
      "text/plain": [
       "<pymongo.results.InsertManyResult at 0x2504243e8c8>"
      ]
     },
     "execution_count": 65,
     "metadata": {},
     "output_type": "execute_result"
    }
   ],
   "source": [
    "db.cars.insert_many(cars)"
   ]
  },
  {
   "cell_type": "code",
   "execution_count": 66,
   "id": "a2fd426b",
   "metadata": {},
   "outputs": [],
   "source": [
    "def put_car_if_doesnt_exist(cars_ref,new_cars):\n",
    "    for new_car in new_cars:\n",
    "        if(len(list(cars_ref.find({'name':new_car['name']})))==0):\n",
    "            cars_ref.insert_one(new_car)\n",
    "        \n",
    " "
   ]
  },
  {
   "cell_type": "code",
   "execution_count": 67,
   "id": "5703e270",
   "metadata": {},
   "outputs": [],
   "source": [
    "new_cars = [ {'name': 'Audi', 'price': 52642},\n",
    "     {'name': 'Mercedes', 'price': 57127},\n",
    "     {'name': 'Buggati', 'price': 89439},\n",
    "     {'name': 'Pobeda', 'price': 571},\n",
    "     {'name': 'Lada', 'price': 34}]"
   ]
  },
  {
   "cell_type": "code",
   "execution_count": 68,
   "id": "c586b678",
   "metadata": {},
   "outputs": [],
   "source": [
    "put_car_if_doesnt_exist(db.cars,new_cars)"
   ]
  },
  {
   "cell_type": "code",
   "execution_count": 69,
   "id": "047665e9",
   "metadata": {},
   "outputs": [],
   "source": [
    "cars=db.cars.find({},{'_id':0,'name':1})"
   ]
  },
  {
   "cell_type": "code",
   "execution_count": 70,
   "id": "d881abe2",
   "metadata": {},
   "outputs": [
    {
     "name": "stdout",
     "output_type": "stream",
     "text": [
      "{'name': 'Audi'}\n",
      "{'name': 'Mercedes'}\n",
      "{'name': 'Skoda'}\n",
      "{'name': 'Volvo'}\n",
      "{'name': 'Bentley'}\n",
      "{'name': 'Citroen'}\n",
      "{'name': 'Hummer'}\n",
      "{'name': 'Volkswagen'}\n",
      "{'name': 'Buggati'}\n",
      "{'name': 'Pobeda'}\n",
      "{'name': 'Lada'}\n"
     ]
    }
   ],
   "source": [
    "for car in cars:\n",
    "    print(car)\n"
   ]
  },
  {
   "cell_type": "code",
   "execution_count": 60,
   "id": "157595ea",
   "metadata": {},
   "outputs": [
    {
     "data": {
      "text/plain": [
       "<pymongo.results.DeleteResult at 0x25042408808>"
      ]
     },
     "execution_count": 60,
     "metadata": {},
     "output_type": "execute_result"
    }
   ],
   "source": [
    "db.cars.delete_many({})"
   ]
  },
  {
   "cell_type": "code",
   "execution_count": null,
   "id": "7ba9ac2e",
   "metadata": {},
   "outputs": [],
   "source": [
    "#  2.напишите запрос для поиска продуктов с рейтингом не ниже введенного или качеством не ниже введенного \n",
    "# (то есть цифра вводится одна, а запрос проверяет оба поля)."
   ]
  },
  {
   "cell_type": "code",
   "execution_count": 71,
   "id": "e625e230",
   "metadata": {},
   "outputs": [],
   "source": [
    "products=[\n",
    "    {'name':'bread','total score':5,'rating':4},\n",
    "    {'name':'sausage','total score':6,'rating':7},\n",
    "    {'name':'milk','total score':3,'rating':1},\n",
    "    {'name':'cheese','total score':4,'rating':8},\n",
    "    {'name':'sour_creme','total score':9,'rating':8},\n",
    "    {'name':'butter','total score':7,'rating':6},\n",
    "    {'name':'meat','total score':2,'rating':3}\n",
    "]"
   ]
  },
  {
   "cell_type": "code",
   "execution_count": 72,
   "id": "e829da24",
   "metadata": {},
   "outputs": [
    {
     "data": {
      "text/plain": [
       "<pymongo.results.InsertManyResult at 0x2504248cbc8>"
      ]
     },
     "execution_count": 72,
     "metadata": {},
     "output_type": "execute_result"
    }
   ],
   "source": [
    "db.products.insert_many(products)"
   ]
  },
  {
   "cell_type": "code",
   "execution_count": 73,
   "id": "a9b6a0de",
   "metadata": {},
   "outputs": [],
   "source": [
    "t_score = 4\n",
    "r = 5"
   ]
  },
  {
   "cell_type": "code",
   "execution_count": 79,
   "id": "1570eb8d",
   "metadata": {},
   "outputs": [],
   "source": [
    "new_products = db.products.find({\"total score\" : {'$gte':t_score},\"rating\" : {'$gte':r}})"
   ]
  },
  {
   "cell_type": "code",
   "execution_count": 80,
   "id": "3532c28d",
   "metadata": {},
   "outputs": [
    {
     "name": "stdout",
     "output_type": "stream",
     "text": [
      "{'_id': ObjectId('63fcb4ef6fa2acaa74d3f4a6'), 'name': 'sausage', 'total score': 6, 'rating': 7}\n",
      "{'_id': ObjectId('63fcb4ef6fa2acaa74d3f4a8'), 'name': 'cheese', 'total score': 4, 'rating': 8}\n",
      "{'_id': ObjectId('63fcb4ef6fa2acaa74d3f4a9'), 'name': 'sour_creme', 'total score': 9, 'rating': 8}\n",
      "{'_id': ObjectId('63fcb4ef6fa2acaa74d3f4aa'), 'name': 'butter', 'total score': 7, 'rating': 6}\n"
     ]
    }
   ],
   "source": [
    "for pr in new_products:\n",
    "    print(pr)"
   ]
  },
  {
   "cell_type": "code",
   "execution_count": null,
   "id": "0d341727",
   "metadata": {},
   "outputs": [],
   "source": []
  }
 ],
 "metadata": {
  "kernelspec": {
   "display_name": "Python 3 (ipykernel)",
   "language": "python",
   "name": "python3"
  },
  "language_info": {
   "codemirror_mode": {
    "name": "ipython",
    "version": 3
   },
   "file_extension": ".py",
   "mimetype": "text/x-python",
   "name": "python",
   "nbconvert_exporter": "python",
   "pygments_lexer": "ipython3",
   "version": "3.7.4"
  }
 },
 "nbformat": 4,
 "nbformat_minor": 5
}

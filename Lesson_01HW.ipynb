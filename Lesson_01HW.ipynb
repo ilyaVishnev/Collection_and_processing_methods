{
 "cells": [
  {
   "cell_type": "code",
   "execution_count": null,
   "id": "09e1eb9e",
   "metadata": {},
   "outputs": [],
   "source": [
    "# 1. Посмотреть документацию к API GitHub, разобраться как вывести список репозиториев для конкретного пользователя, \n",
    "# сохранить JSON-вывод в файле *.json."
   ]
  },
  {
   "cell_type": "code",
   "execution_count": 4,
   "id": "01af222b",
   "metadata": {},
   "outputs": [],
   "source": [
    "import requests\n",
    "import json"
   ]
  },
  {
   "cell_type": "code",
   "execution_count": 9,
   "id": "aaac538a",
   "metadata": {},
   "outputs": [
    {
     "name": "stdout",
     "output_type": "stream",
     "text": [
      "['-Python-Data-Science-Numpy-Matplotlib-Scikit-learn', 'Calendar', 'cat', 'createXml', 'directoriesAndFiles', 'epam-java-cources', 'esphere', 'example', 'exchange', 'First', 'hiber', 'ilyav', 'IlyaVishnevskiy', 'ListOrders', 'musicI', 'MusikArtifact', 'myCalendar', 'myFirst', 'myMVC', 'my_test_project', 'newSpCrud', 'OOD', 'potok', 'python', 'Search', 'SendMessagesToKafka', 'social_network_task', 'spring', 'SpringBootProject', 'SpringBootThymeleaf']\n"
     ]
    }
   ],
   "source": [
    "req = requests.get('https://api.github.com/users/ilyaVishnev/repos')\n",
    "repos=list()\n",
    "list_repos=req.json()\n",
    "for rep in list_repos:\n",
    "    repos.append(rep['name'])\n",
    "print(repos)    "
   ]
  },
  {
   "cell_type": "code",
   "execution_count": 6,
   "id": "359113f5",
   "metadata": {},
   "outputs": [],
   "source": [
    "with open('repos.json', 'w') as outfile:\n",
    "    json.dump(req.json(), outfile)"
   ]
  },
  {
   "cell_type": "code",
   "execution_count": null,
   "id": "32cca77a",
   "metadata": {},
   "outputs": [],
   "source": [
    "# 2. Сделайте запрос, чтобы получить список всех сообществ на которые вы подписаны"
   ]
  },
  {
   "cell_type": "code",
   "execution_count": null,
   "id": "6eab7fa4",
   "metadata": {},
   "outputs": [],
   "source": [
    "access_token='ihhiuigigi&??????'"
   ]
  },
  {
   "cell_type": "code",
   "execution_count": 16,
   "id": "33368cd7",
   "metadata": {},
   "outputs": [],
   "source": [
    "req = requests.get(f'https://api.vk.com/method/groups.get?v=5.81&access_token={access_token}')"
   ]
  },
  {
   "cell_type": "code",
   "execution_count": 17,
   "id": "f2270fab",
   "metadata": {},
   "outputs": [
    {
     "name": "stdout",
     "output_type": "stream",
     "text": [
      "{'response': {'count': 50, 'items': [57466174, 100258502, 61912980, 12938769, 111529633, 36167973, 26270763, 27385220, 74938476, 60082269, 44445981, 28618880, 44770233, 22298919, 33998565, 21197636, 13053960, 195787151, 48980892, 10865353, 48149358, 91780871, 31194142, 77369, 108193013, 20703561, 156782, 12469956, 16237891, 61066885, 249720, 92363710, 39072, 131717951, 53593848, 10138172, 71475937, 108423101, 1789208, 26328617, 5041614, 72707531, 11659405, 10673731, 76935829, 62769702, 64384693, 5060011, 53586756, 8322517]}}\n"
     ]
    }
   ],
   "source": [
    "print(req.json())"
   ]
  },
  {
   "cell_type": "code",
   "execution_count": null,
   "id": "1fab2963",
   "metadata": {},
   "outputs": [],
   "source": []
  }
 ],
 "metadata": {
  "kernelspec": {
   "display_name": "Python 3 (ipykernel)",
   "language": "python",
   "name": "python3"
  },
  "language_info": {
   "codemirror_mode": {
    "name": "ipython",
    "version": 3
   },
   "file_extension": ".py",
   "mimetype": "text/x-python",
   "name": "python",
   "nbconvert_exporter": "python",
   "pygments_lexer": "ipython3",
   "version": "3.7.4"
  }
 },
 "nbformat": 4,
 "nbformat_minor": 5
}

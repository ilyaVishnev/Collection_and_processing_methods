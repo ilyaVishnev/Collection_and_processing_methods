{
 "cells": [
  {
   "cell_type": "code",
   "execution_count": null,
   "id": "de3b6db1",
   "metadata": {},
   "outputs": [],
   "source": [
    "# Написать приложение и функцию, которые собирают основные новости с сайта на выбор dzen.ru, lenta.ru, mail.ru . Для парсинга использовать XPath\n",
    "# Структура данных должна содержать:\n",
    "# * название источника\n",
    "# * наименование новости\n",
    "# * ссылку на новость\n",
    "# * дата публикации"
   ]
  },
  {
   "cell_type": "code",
   "execution_count": 7,
   "id": "35d4d0f0",
   "metadata": {},
   "outputs": [
    {
     "name": "stdout",
     "output_type": "stream",
     "text": [
      "Collecting lxml\n",
      "  Downloading https://files.pythonhosted.org/packages/20/5b/caca461e172d696b151e50a182c6111d192175571e34f483a477122c5d79/lxml-4.9.2-cp37-cp37m-win_amd64.whl (3.8MB)\n",
      "Installing collected packages: lxml\n",
      "Successfully installed lxml-4.9.2\n",
      "Note: you may need to restart the kernel to use updated packages.\n"
     ]
    }
   ],
   "source": [
    "# pip install lxml"
   ]
  },
  {
   "cell_type": "code",
   "execution_count": 298,
   "id": "d8bc7727",
   "metadata": {},
   "outputs": [],
   "source": [
    "import requests\n",
    "from lxml import html\n",
    "import datetime"
   ]
  },
  {
   "cell_type": "code",
   "execution_count": 327,
   "id": "b0448ed2",
   "metadata": {},
   "outputs": [
    {
     "name": "stdout",
     "output_type": "stream",
     "text": [
      "{'дата публикации': '18/02/23', 'название источника': 'Лента', 'новости': [{'наименование новости': 'Российская группировка войск нанесла комплексное огневое поражение ВСУ в ЛНР', 'ссылка на новость': 'https://lenta.ru/news/2023/02/18/lnr_voiska/'}, {'наименование новости': 'Начальника МУР ранили при освобождении заложницы в московском магазине', 'ссылка на новость': 'https://lenta.ru/news/2023/02/18/kuzmin/'}, {'наименование новости': '«Роскосмос» принял решение по неисправному «Прогрессу МС-21»', 'ссылка на новость': 'https://lenta.ru/news/2023/02/18/b7rc/'}]}\n"
     ]
    }
   ],
   "source": [
    "r = requests.get('https://lenta.ru')\n",
    "\n",
    "root = html.fromstring(r.content)\n",
    "topnews = root.xpath(\"//div[@class='topnews__column']\")\n",
    "\n",
    "data={\"дата публикации\" : datetime.date.today().strftime(\"%d/%m/%y\"),\n",
    "     \"название источника\" : \"Лента\",\n",
    "      \"новости\" : list()\n",
    "     }\n",
    "\n",
    "for i, new in enumerate(topnews):   \n",
    "    if i==0:\n",
    "        data[\"новости\"].append({\"наименование новости\" : new.xpath(\".//a[@class='card-big _topnews _news']/div[@class='card-big__titles']/h3/text()\")[0].encode('raw-unicode-escape').decode('utf-8')})\n",
    "        data[\"новости\"][-1][\"ссылка на новость\"]='https://lenta.ru'+new.xpath(\".//a[@class='card-big _topnews _news']/@href\")[0]\n",
    "    else:\n",
    "        data[\"новости\"].append({\"наименование новости\" : new.xpath(\".//a[@class='card-mini _topnews']/div[@class='card-mini__text']/span/text()\")[0].encode('raw-unicode-escape').decode('utf-8')})\n",
    "        data[\"новости\"][-1][\"ссылка на новость\"]='https://lenta.ru'+new.xpath(\".//a[@class='card-mini _topnews']/@href\")[0]\n",
    "print(data)"
   ]
  },
  {
   "cell_type": "code",
   "execution_count": null,
   "id": "2a729f7b",
   "metadata": {},
   "outputs": [],
   "source": []
  },
  {
   "cell_type": "code",
   "execution_count": null,
   "id": "e816f915",
   "metadata": {},
   "outputs": [],
   "source": []
  },
  {
   "cell_type": "code",
   "execution_count": null,
   "id": "fa3f2844",
   "metadata": {},
   "outputs": [],
   "source": []
  }
 ],
 "metadata": {
  "kernelspec": {
   "display_name": "Python 3 (ipykernel)",
   "language": "python",
   "name": "python3"
  },
  "language_info": {
   "codemirror_mode": {
    "name": "ipython",
    "version": 3
   },
   "file_extension": ".py",
   "mimetype": "text/x-python",
   "name": "python",
   "nbconvert_exporter": "python",
   "pygments_lexer": "ipython3",
   "version": "3.7.4"
  }
 },
 "nbformat": 4,
 "nbformat_minor": 5
}
